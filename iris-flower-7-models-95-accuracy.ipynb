{
 "cells": [
  {
   "cell_type": "code",
   "execution_count": 1,
   "id": "compressed-order",
   "metadata": {
    "_cell_guid": "b1076dfc-b9ad-4769-8c92-a6c4dae69d19",
    "_uuid": "8f2839f25d086af736a60e9eeb907d3b93b6e0e5",
    "execution": {
     "iopub.execute_input": "2021-03-17T18:32:54.595087Z",
     "iopub.status.busy": "2021-03-17T18:32:54.593901Z",
     "iopub.status.idle": "2021-03-17T18:32:54.610974Z",
     "shell.execute_reply": "2021-03-17T18:32:54.609969Z"
    },
    "papermill": {
     "duration": 0.04413,
     "end_time": "2021-03-17T18:32:54.611221",
     "exception": false,
     "start_time": "2021-03-17T18:32:54.567091",
     "status": "completed"
    },
    "tags": []
   },
   "outputs": [
    {
     "name": "stdout",
     "output_type": "stream",
     "text": [
      "/kaggle/input/iris-flower-dataset/IRIS.csv\n"
     ]
    }
   ],
   "source": [
    "# This Python 3 environment comes with many helpful analytics libraries installed\n",
    "# It is defined by the kaggle/python Docker image: https://github.com/kaggle/docker-python\n",
    "# For example, here's several helpful packages to load\n",
    "\n",
    "import numpy as np # linear algebra\n",
    "import pandas as pd # data processing, CSV file I/O (e.g. pd.read_csv)\n",
    "\n",
    "# Input data files are available in the read-only \"../input/\" directory\n",
    "# For example, running this (by clicking run or pressing Shift+Enter) will list all files under the input directory\n",
    "\n",
    "import os\n",
    "for dirname, _, filenames in os.walk('/kaggle/input'):\n",
    "    for filename in filenames:\n",
    "        print(os.path.join(dirname, filename))\n",
    "\n",
    "# You can write up to 20GB to the current directory (/kaggle/working/) that gets preserved as output when you create a version using \"Save & Run All\" \n",
    "# You can also write temporary files to /kaggle/temp/, but they won't be saved outside of the current session"
   ]
  },
  {
   "cell_type": "markdown",
   "id": "reported-activity",
   "metadata": {
    "papermill": {
     "duration": 0.02202,
     "end_time": "2021-03-17T18:32:54.656934",
     "exception": false,
     "start_time": "2021-03-17T18:32:54.634914",
     "status": "completed"
    },
    "tags": []
   },
   "source": [
    "# **Importing Libraries**"
   ]
  },
  {
   "cell_type": "code",
   "execution_count": 2,
   "id": "bizarre-banks",
   "metadata": {
    "execution": {
     "iopub.execute_input": "2021-03-17T18:32:54.708645Z",
     "iopub.status.busy": "2021-03-17T18:32:54.707971Z",
     "iopub.status.idle": "2021-03-17T18:32:55.801837Z",
     "shell.execute_reply": "2021-03-17T18:32:55.801243Z"
    },
    "papermill": {
     "duration": 1.122038,
     "end_time": "2021-03-17T18:32:55.802029",
     "exception": false,
     "start_time": "2021-03-17T18:32:54.679991",
     "status": "completed"
    },
    "tags": []
   },
   "outputs": [],
   "source": [
    "import pandas as pd\n",
    "import numpy as np\n",
    "import seaborn as sns\n",
    "import matplotlib.pyplot as plt"
   ]
  },
  {
   "cell_type": "markdown",
   "id": "conventional-spectacular",
   "metadata": {
    "papermill": {
     "duration": 0.023406,
     "end_time": "2021-03-17T18:32:55.851415",
     "exception": false,
     "start_time": "2021-03-17T18:32:55.828009",
     "status": "completed"
    },
    "tags": []
   },
   "source": [
    "# **Importing Dataset**"
   ]
  },
  {
   "cell_type": "code",
   "execution_count": 3,
   "id": "loose-receipt",
   "metadata": {
    "execution": {
     "iopub.execute_input": "2021-03-17T18:32:55.904610Z",
     "iopub.status.busy": "2021-03-17T18:32:55.903804Z",
     "iopub.status.idle": "2021-03-17T18:32:55.918189Z",
     "shell.execute_reply": "2021-03-17T18:32:55.917455Z"
    },
    "papermill": {
     "duration": 0.042149,
     "end_time": "2021-03-17T18:32:55.918340",
     "exception": false,
     "start_time": "2021-03-17T18:32:55.876191",
     "status": "completed"
    },
    "tags": []
   },
   "outputs": [],
   "source": [
    "dataset = pd.read_csv('/kaggle/input/iris-flower-dataset/IRIS.csv')"
   ]
  },
  {
   "cell_type": "code",
   "execution_count": 4,
   "id": "superior-serve",
   "metadata": {
    "execution": {
     "iopub.execute_input": "2021-03-17T18:32:55.993472Z",
     "iopub.status.busy": "2021-03-17T18:32:55.992650Z",
     "iopub.status.idle": "2021-03-17T18:32:55.998420Z",
     "shell.execute_reply": "2021-03-17T18:32:55.997391Z"
    },
    "papermill": {
     "duration": 0.057093,
     "end_time": "2021-03-17T18:32:55.998690",
     "exception": false,
     "start_time": "2021-03-17T18:32:55.941597",
     "status": "completed"
    },
    "tags": []
   },
   "outputs": [
    {
     "name": "stdout",
     "output_type": "stream",
     "text": [
      "<class 'pandas.core.frame.DataFrame'>\n",
      "RangeIndex: 150 entries, 0 to 149\n",
      "Data columns (total 5 columns):\n",
      " #   Column        Non-Null Count  Dtype  \n",
      "---  ------        --------------  -----  \n",
      " 0   sepal_length  150 non-null    float64\n",
      " 1   sepal_width   150 non-null    float64\n",
      " 2   petal_length  150 non-null    float64\n",
      " 3   petal_width   150 non-null    float64\n",
      " 4   species       150 non-null    object \n",
      "dtypes: float64(4), object(1)\n",
      "memory usage: 6.0+ KB\n"
     ]
    }
   ],
   "source": [
    "dataset.info()"
   ]
  },
  {
   "cell_type": "markdown",
   "id": "technological-switzerland",
   "metadata": {
    "papermill": {
     "duration": 0.023249,
     "end_time": "2021-03-17T18:32:56.047519",
     "exception": false,
     "start_time": "2021-03-17T18:32:56.024270",
     "status": "completed"
    },
    "tags": []
   },
   "source": [
    "**Checking if there are any NULL values.**"
   ]
  },
  {
   "cell_type": "code",
   "execution_count": 5,
   "id": "commercial-event",
   "metadata": {
    "execution": {
     "iopub.execute_input": "2021-03-17T18:32:56.107008Z",
     "iopub.status.busy": "2021-03-17T18:32:56.105871Z",
     "iopub.status.idle": "2021-03-17T18:32:56.109890Z",
     "shell.execute_reply": "2021-03-17T18:32:56.110393Z"
    },
    "papermill": {
     "duration": 0.039319,
     "end_time": "2021-03-17T18:32:56.110565",
     "exception": false,
     "start_time": "2021-03-17T18:32:56.071246",
     "status": "completed"
    },
    "tags": []
   },
   "outputs": [
    {
     "data": {
      "text/plain": [
       "sepal_length    0\n",
       "sepal_width     0\n",
       "petal_length    0\n",
       "petal_width     0\n",
       "species         0\n",
       "dtype: int64"
      ]
     },
     "execution_count": 5,
     "metadata": {},
     "output_type": "execute_result"
    }
   ],
   "source": [
    "dataset.isnull().sum()"
   ]
  },
  {
   "cell_type": "markdown",
   "id": "another-genius",
   "metadata": {
    "papermill": {
     "duration": 0.024173,
     "end_time": "2021-03-17T18:32:56.158741",
     "exception": false,
     "start_time": "2021-03-17T18:32:56.134568",
     "status": "completed"
    },
    "tags": []
   },
   "source": [
    "# **Count Plot for species in Iris**"
   ]
  },
  {
   "cell_type": "code",
   "execution_count": 6,
   "id": "compound-assist",
   "metadata": {
    "execution": {
     "iopub.execute_input": "2021-03-17T18:32:56.234656Z",
     "iopub.status.busy": "2021-03-17T18:32:56.214268Z",
     "iopub.status.idle": "2021-03-17T18:32:56.371489Z",
     "shell.execute_reply": "2021-03-17T18:32:56.370955Z"
    },
    "papermill": {
     "duration": 0.18855,
     "end_time": "2021-03-17T18:32:56.371633",
     "exception": false,
     "start_time": "2021-03-17T18:32:56.183083",
     "status": "completed"
    },
    "tags": []
   },
   "outputs": [
    {
     "data": {
      "text/plain": [
       "<AxesSubplot:xlabel='species', ylabel='count'>"
      ]
     },
     "execution_count": 6,
     "metadata": {},
     "output_type": "execute_result"
    },
    {
     "data": {
      "image/png": "[encoded data removed]",
      "text/plain": [
       "<Figure size 432x288 with 1 Axes>"
      ]
     },
     "metadata": {
      "needs_background": "light"
     },
     "output_type": "display_data"
    }
   ],
   "source": [
    "sns.countplot(x= 'species', data= dataset)"
   ]
  },
  {
   "cell_type": "code",
   "execution_count": 7,
   "id": "comprehensive-proposal",
   "metadata": {
    "execution": {
     "iopub.execute_input": "2021-03-17T18:32:56.428984Z",
     "iopub.status.busy": "2021-03-17T18:32:56.428308Z",
     "iopub.status.idle": "2021-03-17T18:32:56.431862Z",
     "shell.execute_reply": "2021-03-17T18:32:56.432444Z"
    },
    "papermill": {
     "duration": 0.035927,
     "end_time": "2021-03-17T18:32:56.432621",
     "exception": false,
     "start_time": "2021-03-17T18:32:56.396694",
     "status": "completed"
    },
    "tags": []
   },
   "outputs": [
    {
     "data": {
      "text/plain": [
       "Iris-versicolor    50\n",
       "Iris-virginica     50\n",
       "Iris-setosa        50\n",
       "Name: species, dtype: int64"
      ]
     },
     "execution_count": 7,
     "metadata": {},
     "output_type": "execute_result"
    }
   ],
   "source": [
    "dataset.species.value_counts()"
   ]
  },
  {
   "cell_type": "markdown",
   "id": "dutch-flour",
   "metadata": {
    "papermill": {
     "duration": 0.025054,
     "end_time": "2021-03-17T18:32:56.483161",
     "exception": false,
     "start_time": "2021-03-17T18:32:56.458107",
     "status": "completed"
    },
    "tags": []
   },
   "source": [
    "# **Heat Map Correlation**"
   ]
  },
  {
   "cell_type": "code",
   "execution_count": 8,
   "id": "peaceful-discount",
   "metadata": {
    "execution": {
     "iopub.execute_input": "2021-03-17T18:32:56.536889Z",
     "iopub.status.busy": "2021-03-17T18:32:56.536191Z",
     "iopub.status.idle": "2021-03-17T18:32:56.813534Z",
     "shell.execute_reply": "2021-03-17T18:32:56.812953Z"
    },
    "papermill": {
     "duration": 0.305264,
     "end_time": "2021-03-17T18:32:56.813696",
     "exception": false,
     "start_time": "2021-03-17T18:32:56.508432",
     "status": "completed"
    },
    "tags": []
   },
   "outputs": [
    {
     "data": {
      "text/plain": [
       "<AxesSubplot:>"
      ]
     },
     "execution_count": 8,
     "metadata": {},
     "output_type": "execute_result"
    },
    {
     "data": {
      "image/png": "[encoded data removed]",
      "text/plain": [
       "<Figure size 432x288 with 2 Axes>"
      ]
     },
     "metadata": {
      "needs_background": "light"
     },
     "output_type": "display_data"
    }
   ],
   "source": [
    "sns.heatmap(data= dataset.corr(), annot= True)"
   ]
  },
  {
   "cell_type": "markdown",
   "id": "constitutional-consensus",
   "metadata": {
    "papermill": {
     "duration": 0.029323,
     "end_time": "2021-03-17T18:32:56.870311",
     "exception": false,
     "start_time": "2021-03-17T18:32:56.840988",
     "status": "completed"
    },
    "tags": []
   },
   "source": [
    "# **Data Preprocessing**"
   ]
  },
  {
   "cell_type": "code",
   "execution_count": 9,
   "id": "iraqi-doctor",
   "metadata": {
    "execution": {
     "iopub.execute_input": "2021-03-17T18:32:56.952281Z",
     "iopub.status.busy": "2021-03-17T18:32:56.951147Z",
     "iopub.status.idle": "2021-03-17T18:32:56.954598Z",
     "shell.execute_reply": "2021-03-17T18:32:56.955523Z"
    },
    "papermill": {
     "duration": 0.050601,
     "end_time": "2021-03-17T18:32:56.955770",
     "exception": false,
     "start_time": "2021-03-17T18:32:56.905169",
     "status": "completed"
    },
    "tags": []
   },
   "outputs": [],
   "source": [
    "x = dataset.iloc[:, :-1].values\n",
    "y = dataset.iloc[:, -1].values"
   ]
  },
  {
   "cell_type": "code",
   "execution_count": 10,
   "id": "caring-shepherd",
   "metadata": {
    "execution": {
     "iopub.execute_input": "2021-03-17T18:32:57.032341Z",
     "iopub.status.busy": "2021-03-17T18:32:57.031284Z",
     "iopub.status.idle": "2021-03-17T18:32:57.045149Z",
     "shell.execute_reply": "2021-03-17T18:32:57.045610Z"
    },
    "papermill": {
     "duration": 0.057255,
     "end_time": "2021-03-17T18:32:57.045793",
     "exception": false,
     "start_time": "2021-03-17T18:32:56.988538",
     "status": "completed"
    },
    "tags": []
   },
   "outputs": [
    {
     "data": {
      "text/plain": [
       "array([[5.1, 3.5, 1.4, 0.2],\n",
       "       [4.9, 3. , 1.4, 0.2],\n",
       "       [4.7, 3.2, 1.3, 0.2],\n",
       "       [4.6, 3.1, 1.5, 0.2],\n",
       "       [5. , 3.6, 1.4, 0.2],\n",
       "       [5.4, 3.9, 1.7, 0.4],\n",
       "       [4.6, 3.4, 1.4, 0.3],\n",
       "       [5. , 3.4, 1.5, 0.2],\n",
       "       [4.4, 2.9, 1.4, 0.2],\n",
       "       [4.9, 3.1, 1.5, 0.1],\n",
       "       [5.4, 3.7, 1.5, 0.2],\n",
       "       [4.8, 3.4, 1.6, 0.2],\n",
       "       [4.8, 3. , 1.4, 0.1],\n",
       "       [4.3, 3. , 1.1, 0.1],\n",
       "       [5.8, 4. , 1.2, 0.2],\n",
       "       [5.7, 4.4, 1.5, 0.4],\n",
       "       [5.4, 3.9, 1.3, 0.4],\n",
       "       [5.1, 3.5, 1.4, 0.3],\n",
       "       [5.7, 3.8, 1.7, 0.3],\n",
       "       [5.1, 3.8, 1.5, 0.3],\n",
       "       [5.4, 3.4, 1.7, 0.2],\n",
       "       [5.1, 3.7, 1.5, 0.4],\n",
       "       [4.6, 3.6, 1. , 0.2],\n",
       "       [5.1, 3.3, 1.7, 0.5],\n",
       "       [4.8, 3.4, 1.9, 0.2],\n",
       "       [5. , 3. , 1.6, 0.2],\n",
       "       [5. , 3.4, 1.6, 0.4],\n",
       "       [5.2, 3.5, 1.5, 0.2],\n",
       "       [5.2, 3.4, 1.4, 0.2],\n",
       "       [4.7, 3.2, 1.6, 0.2],\n",
       "       [4.8, 3.1, 1.6, 0.2],\n",
       "       [5.4, 3.4, 1.5, 0.4],\n",
       "       [5.2, 4.1, 1.5, 0.1],\n",
       "       [5.5, 4.2, 1.4, 0.2],\n",
       "       [4.9, 3.1, 1.5, 0.1],\n",
       "       [5. , 3.2, 1.2, 0.2],\n",
       "       [5.5, 3.5, 1.3, 0.2],\n",
       "       [4.9, 3.1, 1.5, 0.1],\n",
       "       [4.4, 3. , 1.3, 0.2],\n",
       "       [5.1, 3.4, 1.5, 0.2],\n",
       "       [5. , 3.5, 1.3, 0.3],\n",
       "       [4.5, 2.3, 1.3, 0.3],\n",
       "       [4.4, 3.2, 1.3, 0.2],\n",
       "       [5. , 3.5, 1.6, 0.6],\n",
       "       [5.1, 3.8, 1.9, 0.4],\n",
       "       [4.8, 3. , 1.4, 0.3],\n",
       "       [5.1, 3.8, 1.6, 0.2],\n",
       "       [4.6, 3.2, 1.4, 0.2],\n",
       "       [5.3, 3.7, 1.5, 0.2],\n",
       "       [5. , 3.3, 1.4, 0.2],\n",
       "       [7. , 3.2, 4.7, 1.4],\n",
       "       [6.4, 3.2, 4.5, 1.5],\n",
       "       [6.9, 3.1, 4.9, 1.5],\n",
       "       [5.5, 2.3, 4. , 1.3],\n",
       "       [6.5, 2.8, 4.6, 1.5],\n",
       "       [5.7, 2.8, 4.5, 1.3],\n",
       "       [6.3, 3.3, 4.7, 1.6],\n",
       "       [4.9, 2.4, 3.3, 1. ],\n",
       "       [6.6, 2.9, 4.6, 1.3],\n",
       "       [5.2, 2.7, 3.9, 1.4],\n",
       "       [5. , 2. , 3.5, 1. ],\n",
       "       [5.9, 3. , 4.2, 1.5],\n",
       "       [6. , 2.2, 4. , 1. ],\n",
       "       [6.1, 2.9, 4.7, 1.4],\n",
       "       [5.6, 2.9, 3.6, 1.3],\n",
       "       [6.7, 3.1, 4.4, 1.4],\n",
       "       [5.6, 3. , 4.5, 1.5],\n",
       "       [5.8, 2.7, 4.1, 1. ],\n",
       "       [6.2, 2.2, 4.5, 1.5],\n",
       "       [5.6, 2.5, 3.9, 1.1],\n",
       "       [5.9, 3.2, 4.8, 1.8],\n",
       "       [6.1, 2.8, 4. , 1.3],\n",
       "       [6.3, 2.5, 4.9, 1.5],\n",
       "       [6.1, 2.8, 4.7, 1.2],\n",
       "       [6.4, 2.9, 4.3, 1.3],\n",
       "       [6.6, 3. , 4.4, 1.4],\n",
       "       [6.8, 2.8, 4.8, 1.4],\n",
       "       [6.7, 3. , 5. , 1.7],\n",
       "       [6. , 2.9, 4.5, 1.5],\n",
       "       [5.7, 2.6, 3.5, 1. ],\n",
       "       [5.5, 2.4, 3.8, 1.1],\n",
       "       [5.5, 2.4, 3.7, 1. ],\n",
       "       [5.8, 2.7, 3.9, 1.2],\n",
       "       [6. , 2.7, 5.1, 1.6],\n",
       "       [5.4, 3. , 4.5, 1.5],\n",
       "       [6. , 3.4, 4.5, 1.6],\n",
       "       [6.7, 3.1, 4.7, 1.5],\n",
       "       [6.3, 2.3, 4.4, 1.3],\n",
       "       [5.6, 3. , 4.1, 1.3],\n",
       "       [5.5, 2.5, 4. , 1.3],\n",
       "       [5.5, 2.6, 4.4, 1.2],\n",
       "       [6.1, 3. , 4.6, 1.4],\n",
       "       [5.8, 2.6, 4. , 1.2],\n",
       "       [5. , 2.3, 3.3, 1. ],\n",
       "       [5.6, 2.7, 4.2, 1.3],\n",
       "       [5.7, 3. , 4.2, 1.2],\n",
       "       [5.7, 2.9, 4.2, 1.3],\n",
       "       [6.2, 2.9, 4.3, 1.3],\n",
       "       [5.1, 2.5, 3. , 1.1],\n",
       "       [5.7, 2.8, 4.1, 1.3],\n",
       "       [6.3, 3.3, 6. , 2.5],\n",
       "       [5.8, 2.7, 5.1, 1.9],\n",
       "       [7.1, 3. , 5.9, 2.1],\n",
       "       [6.3, 2.9, 5.6, 1.8],\n",
       "       [6.5, 3. , 5.8, 2.2],\n",
       "       [7.6, 3. , 6.6, 2.1],\n",
       "       [4.9, 2.5, 4.5, 1.7],\n",
       "       [7.3, 2.9, 6.3, 1.8],\n",
       "       [6.7, 2.5, 5.8, 1.8],\n",
       "       [7.2, 3.6, 6.1, 2.5],\n",
       "       [6.5, 3.2, 5.1, 2. ],\n",
       "       [6.4, 2.7, 5.3, 1.9],\n",
       "       [6.8, 3. , 5.5, 2.1],\n",
       "       [5.7, 2.5, 5. , 2. ],\n",
       "       [5.8, 2.8, 5.1, 2.4],\n",
       "       [6.4, 3.2, 5.3, 2.3],\n",
       "       [6.5, 3. , 5.5, 1.8],\n",
       "       [7.7, 3.8, 6.7, 2.2],\n",
       "       [7.7, 2.6, 6.9, 2.3],\n",
       "       [6. , 2.2, 5. , 1.5],\n",
       "       [6.9, 3.2, 5.7, 2.3],\n",
       "       [5.6, 2.8, 4.9, 2. ],\n",
       "       [7.7, 2.8, 6.7, 2. ],\n",
       "       [6.3, 2.7, 4.9, 1.8],\n",
       "       [6.7, 3.3, 5.7, 2.1],\n",
       "       [7.2, 3.2, 6. , 1.8],\n",
       "       [6.2, 2.8, 4.8, 1.8],\n",
       "       [6.1, 3. , 4.9, 1.8],\n",
       "       [6.4, 2.8, 5.6, 2.1],\n",
       "       [7.2, 3. , 5.8, 1.6],\n",
       "       [7.4, 2.8, 6.1, 1.9],\n",
       "       [7.9, 3.8, 6.4, 2. ],\n",
       "       [6.4, 2.8, 5.6, 2.2],\n",
       "       [6.3, 2.8, 5.1, 1.5],\n",
       "       [6.1, 2.6, 5.6, 1.4],\n",
       "       [7.7, 3. , 6.1, 2.3],\n",
       "       [6.3, 3.4, 5.6, 2.4],\n",
       "       [6.4, 3.1, 5.5, 1.8],\n",
       "       [6. , 3. , 4.8, 1.8],\n",
       "       [6.9, 3.1, 5.4, 2.1],\n",
       "       [6.7, 3.1, 5.6, 2.4],\n",
       "       [6.9, 3.1, 5.1, 2.3],\n",
       "       [5.8, 2.7, 5.1, 1.9],\n",
       "       [6.8, 3.2, 5.9, 2.3],\n",
       "       [6.7, 3.3, 5.7, 2.5],\n",
       "       [6.7, 3. , 5.2, 2.3],\n",
       "       [6.3, 2.5, 5. , 1.9],\n",
       "       [6.5, 3. , 5.2, 2. ],\n",
       "       [6.2, 3.4, 5.4, 2.3],\n",
       "       [5.9, 3. , 5.1, 1.8]])"
      ]
     },
     "execution_count": 10,
     "metadata": {},
     "output_type": "execute_result"
    }
   ],
   "source": [
    "x"
   ]
  },
  {
   "cell_type": "code",
   "execution_count": 11,
   "id": "facial-estimate",
   "metadata": {
    "execution": {
     "iopub.execute_input": "2021-03-17T18:32:57.107432Z",
     "iopub.status.busy": "2021-03-17T18:32:57.106442Z",
     "iopub.status.idle": "2021-03-17T18:32:57.113657Z",
     "shell.execute_reply": "2021-03-17T18:32:57.113166Z"
    },
    "papermill": {
     "duration": 0.039388,
     "end_time": "2021-03-17T18:32:57.113807",
     "exception": false,
     "start_time": "2021-03-17T18:32:57.074419",
     "status": "completed"
    },
    "tags": []
   },
   "outputs": [
    {
     "data": {
      "text/plain": [
       "array(['Iris-setosa', 'Iris-setosa', 'Iris-setosa', 'Iris-setosa',\n",
       "       'Iris-setosa', 'Iris-setosa', 'Iris-setosa', 'Iris-setosa',\n",
       "       'Iris-setosa', 'Iris-setosa', 'Iris-setosa', 'Iris-setosa',\n",
       "       'Iris-setosa', 'Iris-setosa', 'Iris-setosa', 'Iris-setosa',\n",
       "       'Iris-setosa', 'Iris-setosa', 'Iris-setosa', 'Iris-setosa',\n",
       "       'Iris-setosa', 'Iris-setosa', 'Iris-setosa', 'Iris-setosa',\n",
       "       'Iris-setosa', 'Iris-setosa', 'Iris-setosa', 'Iris-setosa',\n",
       "       'Iris-setosa', 'Iris-setosa', 'Iris-setosa', 'Iris-setosa',\n",
       "       'Iris-setosa', 'Iris-setosa', 'Iris-setosa', 'Iris-setosa',\n",
       "       'Iris-setosa', 'Iris-setosa', 'Iris-setosa', 'Iris-setosa',\n",
       "       'Iris-setosa', 'Iris-setosa', 'Iris-setosa', 'Iris-setosa',\n",
       "       'Iris-setosa', 'Iris-setosa', 'Iris-setosa', 'Iris-setosa',\n",
       "       'Iris-setosa', 'Iris-setosa', 'Iris-versicolor', 'Iris-versicolor',\n",
       "       'Iris-versicolor', 'Iris-versicolor', 'Iris-versicolor',\n",
       "       'Iris-versicolor', 'Iris-versicolor', 'Iris-versicolor',\n",
       "       'Iris-versicolor', 'Iris-versicolor', 'Iris-versicolor',\n",
       "       'Iris-versicolor', 'Iris-versicolor', 'Iris-versicolor',\n",
       "       'Iris-versicolor', 'Iris-versicolor', 'Iris-versicolor',\n",
       "       'Iris-versicolor', 'Iris-versicolor', 'Iris-versicolor',\n",
       "       'Iris-versicolor', 'Iris-versicolor', 'Iris-versicolor',\n",
       "       'Iris-versicolor', 'Iris-versicolor', 'Iris-versicolor',\n",
       "       'Iris-versicolor', 'Iris-versicolor', 'Iris-versicolor',\n",
       "       'Iris-versicolor', 'Iris-versicolor', 'Iris-versicolor',\n",
       "       'Iris-versicolor', 'Iris-versicolor', 'Iris-versicolor',\n",
       "       'Iris-versicolor', 'Iris-versicolor', 'Iris-versicolor',\n",
       "       'Iris-versicolor', 'Iris-versicolor', 'Iris-versicolor',\n",
       "       'Iris-versicolor', 'Iris-versicolor', 'Iris-versicolor',\n",
       "       'Iris-versicolor', 'Iris-versicolor', 'Iris-versicolor',\n",
       "       'Iris-versicolor', 'Iris-versicolor', 'Iris-versicolor',\n",
       "       'Iris-virginica', 'Iris-virginica', 'Iris-virginica',\n",
       "       'Iris-virginica', 'Iris-virginica', 'Iris-virginica',\n",
       "       'Iris-virginica', 'Iris-virginica', 'Iris-virginica',\n",
       "       'Iris-virginica', 'Iris-virginica', 'Iris-virginica',\n",
       "       'Iris-virginica', 'Iris-virginica', 'Iris-virginica',\n",
       "       'Iris-virginica', 'Iris-virginica', 'Iris-virginica',\n",
       "       'Iris-virginica', 'Iris-virginica', 'Iris-virginica',\n",
       "       'Iris-virginica', 'Iris-virginica', 'Iris-virginica',\n",
       "       'Iris-virginica', 'Iris-virginica', 'Iris-virginica',\n",
       "       'Iris-virginica', 'Iris-virginica', 'Iris-virginica',\n",
       "       'Iris-virginica', 'Iris-virginica', 'Iris-virginica',\n",
       "       'Iris-virginica', 'Iris-virginica', 'Iris-virginica',\n",
       "       'Iris-virginica', 'Iris-virginica', 'Iris-virginica',\n",
       "       'Iris-virginica', 'Iris-virginica', 'Iris-virginica',\n",
       "       'Iris-virginica', 'Iris-virginica', 'Iris-virginica',\n",
       "       'Iris-virginica', 'Iris-virginica', 'Iris-virginica',\n",
       "       'Iris-virginica', 'Iris-virginica'], dtype=object)"
      ]
     },
     "execution_count": 11,
     "metadata": {},
     "output_type": "execute_result"
    }
   ],
   "source": [
    "y"
   ]
  },
  {
   "cell_type": "markdown",
   "id": "happy-apparel",
   "metadata": {
    "papermill": {
     "duration": 0.027666,
     "end_time": "2021-03-17T18:32:57.169373",
     "exception": false,
     "start_time": "2021-03-17T18:32:57.141707",
     "status": "completed"
    },
    "tags": []
   },
   "source": [
    "# **Splitting dataset into Train and Test set**"
   ]
  },
  {
   "cell_type": "code",
   "execution_count": 12,
   "id": "bulgarian-cyprus",
   "metadata": {
    "execution": {
     "iopub.execute_input": "2021-03-17T18:32:57.233764Z",
     "iopub.status.busy": "2021-03-17T18:32:57.232973Z",
     "iopub.status.idle": "2021-03-17T18:32:57.506241Z",
     "shell.execute_reply": "2021-03-17T18:32:57.505472Z"
    },
    "papermill": {
     "duration": 0.308183,
     "end_time": "2021-03-17T18:32:57.506450",
     "exception": false,
     "start_time": "2021-03-17T18:32:57.198267",
     "status": "completed"
    },
    "tags": []
   },
   "outputs": [],
   "source": [
    "from sklearn.model_selection import train_test_split\n",
    "x_train, x_test, y_train, y_test = train_test_split(x, y, test_size= 0.2, random_state= 0)"
   ]
  },
  {
   "cell_type": "markdown",
   "id": "narrative-caution",
   "metadata": {
    "papermill": {
     "duration": 0.028876,
     "end_time": "2021-03-17T18:32:57.563667",
     "exception": false,
     "start_time": "2021-03-17T18:32:57.534791",
     "status": "completed"
    },
    "tags": []
   },
   "source": [
    "# **Feature Scaling**"
   ]
  },
  {
   "cell_type": "code",
   "execution_count": 13,
   "id": "respected-sterling",
   "metadata": {
    "execution": {
     "iopub.execute_input": "2021-03-17T18:32:57.628703Z",
     "iopub.status.busy": "2021-03-17T18:32:57.627688Z",
     "iopub.status.idle": "2021-03-17T18:32:57.631157Z",
     "shell.execute_reply": "2021-03-17T18:32:57.630603Z"
    },
    "papermill": {
     "duration": 0.038551,
     "end_time": "2021-03-17T18:32:57.631305",
     "exception": false,
     "start_time": "2021-03-17T18:32:57.592754",
     "status": "completed"
    },
    "tags": []
   },
   "outputs": [],
   "source": [
    "from sklearn.preprocessing import StandardScaler\n",
    "sc = StandardScaler()\n",
    "x_train = sc.fit_transform(x_train)\n",
    "x_test = sc.transform(x_test)"
   ]
  },
  {
   "cell_type": "markdown",
   "id": "narrow-sound",
   "metadata": {
    "papermill": {
     "duration": 0.028113,
     "end_time": "2021-03-17T18:32:57.687578",
     "exception": false,
     "start_time": "2021-03-17T18:32:57.659465",
     "status": "completed"
    },
    "tags": []
   },
   "source": [
    "# **Selection of Models**"
   ]
  },
  {
   "cell_type": "code",
   "execution_count": 14,
   "id": "mental-button",
   "metadata": {
    "execution": {
     "iopub.execute_input": "2021-03-17T18:32:57.751068Z",
     "iopub.status.busy": "2021-03-17T18:32:57.750254Z",
     "iopub.status.idle": "2021-03-17T18:32:58.338423Z",
     "shell.execute_reply": "2021-03-17T18:32:58.338970Z"
    },
    "papermill": {
     "duration": 0.62291,
     "end_time": "2021-03-17T18:32:58.339179",
     "exception": false,
     "start_time": "2021-03-17T18:32:57.716269",
     "status": "completed"
    },
    "tags": []
   },
   "outputs": [],
   "source": [
    "from sklearn.linear_model import LogisticRegression\n",
    "from sklearn.neighbors import KNeighborsClassifier\n",
    "from sklearn.naive_bayes import GaussianNB\n",
    "from sklearn.svm import SVC\n",
    "from sklearn.tree import DecisionTreeClassifier\n",
    "from sklearn.ensemble import RandomForestClassifier\n",
    "from xgboost import XGBClassifier"
   ]
  },
  {
   "cell_type": "code",
   "execution_count": 15,
   "id": "neither-philip",
   "metadata": {
    "execution": {
     "iopub.execute_input": "2021-03-17T18:32:58.400166Z",
     "iopub.status.busy": "2021-03-17T18:32:58.399185Z",
     "iopub.status.idle": "2021-03-17T18:32:58.404732Z",
     "shell.execute_reply": "2021-03-17T18:32:58.404048Z"
    },
    "papermill": {
     "duration": 0.037099,
     "end_time": "2021-03-17T18:32:58.404894",
     "exception": false,
     "start_time": "2021-03-17T18:32:58.367795",
     "status": "completed"
    },
    "tags": []
   },
   "outputs": [],
   "source": [
    "from sklearn.metrics import accuracy_score, confusion_matrix\n",
    "from sklearn.model_selection import cross_val_score"
   ]
  },
  {
   "cell_type": "code",
   "execution_count": 16,
   "id": "wooden-stable",
   "metadata": {
    "execution": {
     "iopub.execute_input": "2021-03-17T18:32:58.478432Z",
     "iopub.status.busy": "2021-03-17T18:32:58.477671Z",
     "iopub.status.idle": "2021-03-17T18:33:01.448381Z",
     "shell.execute_reply": "2021-03-17T18:33:01.448957Z"
    },
    "papermill": {
     "duration": 3.015453,
     "end_time": "2021-03-17T18:33:01.449185",
     "exception": false,
     "start_time": "2021-03-17T18:32:58.433732",
     "status": "completed"
    },
    "tags": []
   },
   "outputs": [
    {
     "name": "stdout",
     "output_type": "stream",
     "text": [
      "Logistic Regreesion\n",
      "[[11  0  0]\n",
      " [ 0 13  0]\n",
      " [ 0  0  6]]\n",
      "Accuracy Score 1.0\n",
      "\n",
      "Mean Accuracy: 95.00 %\n",
      "\n",
      "Standard Deviation: 5.53 %\n",
      "\n",
      "-----------------------------------\n",
      "\n",
      "SVM\n",
      "[[11  0  0]\n",
      " [ 0 13  0]\n",
      " [ 0  0  6]]\n",
      "Accuracy Score 1.0\n",
      "\n",
      "Mean Accuracy: 94.17 %\n",
      "\n",
      "Standard Deviation: 6.51 %\n",
      "\n",
      "-----------------------------------\n",
      "\n",
      "KNeighbors\n",
      "[[11  0  0]\n",
      " [ 0 13  0]\n",
      " [ 0  0  6]]\n",
      "Accuracy Score 1.0\n",
      "\n",
      "Mean Accuracy: 93.33 %\n",
      "\n",
      "Standard Deviation: 6.24 %\n",
      "\n",
      "-----------------------------------\n",
      "\n",
      "Naive Bayes\n",
      "[[11  0  0]\n",
      " [ 0 13  0]\n",
      " [ 0  1  5]]\n",
      "Accuracy Score 0.9666666666666667\n",
      "\n",
      "Mean Accuracy: 95.00 %\n",
      "\n",
      "Standard Deviation: 5.53 %\n",
      "\n",
      "-----------------------------------\n",
      "\n",
      "Decision Tree\n",
      "[[11  0  0]\n",
      " [ 0 13  0]\n",
      " [ 0  0  6]]\n",
      "Accuracy Score 1.0\n",
      "\n",
      "Mean Accuracy: 93.33 %\n",
      "\n",
      "Standard Deviation: 5.00 %\n",
      "\n",
      "-----------------------------------\n",
      "\n",
      "Random Forest\n",
      "[[11  0  0]\n",
      " [ 0 13  0]\n",
      " [ 0  0  6]]\n",
      "Accuracy Score 1.0\n",
      "\n",
      "Mean Accuracy: 93.33 %\n",
      "\n",
      "Standard Deviation: 5.00 %\n",
      "\n",
      "-----------------------------------\n",
      "\n",
      "[18:33:00] WARNING: ../src/learner.cc:1061: Starting in XGBoost 1.3.0, the default evaluation metric used with the objective 'multi:softprob' was changed from 'merror' to 'mlogloss'. Explicitly set eval_metric if you'd like to restore the old behavior.\n",
      "[18:33:00] WARNING: ../src/learner.cc:1061: Starting in XGBoost 1.3.0, the default evaluation metric used with the objective 'multi:softprob' was changed from 'merror' to 'mlogloss'. Explicitly set eval_metric if you'd like to restore the old behavior.\n",
      "[18:33:00] WARNING: ../src/learner.cc:1061: Starting in XGBoost 1.3.0, the default evaluation metric used with the objective 'multi:softprob' was changed from 'merror' to 'mlogloss'. Explicitly set eval_metric if you'd like to restore the old behavior.\n"
     ]
    },
    {
     "name": "stderr",
     "output_type": "stream",
     "text": [
      "/opt/conda/lib/python3.7/site-packages/xgboost/sklearn.py:888: UserWarning: The use of label encoder in XGBClassifier is deprecated and will be removed in a future release. To remove this warning, do the following: 1) Pass option use_label_encoder=False when constructing XGBClassifier object; and 2) Encode your labels (y) as integers starting with 0, i.e. 0, 1, 2, ..., [num_class - 1].\n",
      "  warnings.warn(label_encoder_deprecation_msg, UserWarning)\n",
      "/opt/conda/lib/python3.7/site-packages/xgboost/sklearn.py:888: UserWarning: The use of label encoder in XGBClassifier is deprecated and will be removed in a future release. To remove this warning, do the following: 1) Pass option use_label_encoder=False when constructing XGBClassifier object; and 2) Encode your labels (y) as integers starting with 0, i.e. 0, 1, 2, ..., [num_class - 1].\n",
      "  warnings.warn(label_encoder_deprecation_msg, UserWarning)\n",
      "/opt/conda/lib/python3.7/site-packages/xgboost/sklearn.py:888: UserWarning: The use of label encoder in XGBClassifier is deprecated and will be removed in a future release. To remove this warning, do the following: 1) Pass option use_label_encoder=False when constructing XGBClassifier object; and 2) Encode your labels (y) as integers starting with 0, i.e. 0, 1, 2, ..., [num_class - 1].\n",
      "  warnings.warn(label_encoder_deprecation_msg, UserWarning)\n",
      "/opt/conda/lib/python3.7/site-packages/xgboost/sklearn.py:888: UserWarning: The use of label encoder in XGBClassifier is deprecated and will be removed in a future release. To remove this warning, do the following: 1) Pass option use_label_encoder=False when constructing XGBClassifier object; and 2) Encode your labels (y) as integers starting with 0, i.e. 0, 1, 2, ..., [num_class - 1].\n",
      "  warnings.warn(label_encoder_deprecation_msg, UserWarning)\n",
      "/opt/conda/lib/python3.7/site-packages/xgboost/sklearn.py:888: UserWarning: The use of label encoder in XGBClassifier is deprecated and will be removed in a future release. To remove this warning, do the following: 1) Pass option use_label_encoder=False when constructing XGBClassifier object; and 2) Encode your labels (y) as integers starting with 0, i.e. 0, 1, 2, ..., [num_class - 1].\n",
      "  warnings.warn(label_encoder_deprecation_msg, UserWarning)\n",
      "/opt/conda/lib/python3.7/site-packages/xgboost/sklearn.py:888: UserWarning: The use of label encoder in XGBClassifier is deprecated and will be removed in a future release. To remove this warning, do the following: 1) Pass option use_label_encoder=False when constructing XGBClassifier object; and 2) Encode your labels (y) as integers starting with 0, i.e. 0, 1, 2, ..., [num_class - 1].\n",
      "  warnings.warn(label_encoder_deprecation_msg, UserWarning)\n",
      "/opt/conda/lib/python3.7/site-packages/xgboost/sklearn.py:888: UserWarning: The use of label encoder in XGBClassifier is deprecated and will be removed in a future release. To remove this warning, do the following: 1) Pass option use_label_encoder=False when constructing XGBClassifier object; and 2) Encode your labels (y) as integers starting with 0, i.e. 0, 1, 2, ..., [num_class - 1].\n",
      "  warnings.warn(label_encoder_deprecation_msg, UserWarning)\n"
     ]
    },
    {
     "name": "stdout",
     "output_type": "stream",
     "text": [
      "[18:33:00] WARNING: ../src/learner.cc:1061: Starting in XGBoost 1.3.0, the default evaluation metric used with the objective 'multi:softprob' was changed from 'merror' to 'mlogloss'. Explicitly set eval_metric if you'd like to restore the old behavior.\n",
      "[18:33:01] WARNING: ../src/learner.cc:1061: Starting in XGBoost 1.3.0, the default evaluation metric used with the objective 'multi:softprob' was changed from 'merror' to 'mlogloss'. Explicitly set eval_metric if you'd like to restore the old behavior.\n",
      "[18:33:01] WARNING: ../src/learner.cc:1061: Starting in XGBoost 1.3.0, the default evaluation metric used with the objective 'multi:softprob' was changed from 'merror' to 'mlogloss'. Explicitly set eval_metric if you'd like to restore the old behavior.\n",
      "[18:33:01] WARNING: ../src/learner.cc:1061: Starting in XGBoost 1.3.0, the default evaluation metric used with the objective 'multi:softprob' was changed from 'merror' to 'mlogloss'. Explicitly set eval_metric if you'd like to restore the old behavior.\n"
     ]
    },
    {
     "name": "stderr",
     "output_type": "stream",
     "text": [
      "/opt/conda/lib/python3.7/site-packages/xgboost/sklearn.py:888: UserWarning: The use of label encoder in XGBClassifier is deprecated and will be removed in a future release. To remove this warning, do the following: 1) Pass option use_label_encoder=False when constructing XGBClassifier object; and 2) Encode your labels (y) as integers starting with 0, i.e. 0, 1, 2, ..., [num_class - 1].\n",
      "  warnings.warn(label_encoder_deprecation_msg, UserWarning)\n",
      "/opt/conda/lib/python3.7/site-packages/xgboost/sklearn.py:888: UserWarning: The use of label encoder in XGBClassifier is deprecated and will be removed in a future release. To remove this warning, do the following: 1) Pass option use_label_encoder=False when constructing XGBClassifier object; and 2) Encode your labels (y) as integers starting with 0, i.e. 0, 1, 2, ..., [num_class - 1].\n",
      "  warnings.warn(label_encoder_deprecation_msg, UserWarning)\n",
      "/opt/conda/lib/python3.7/site-packages/xgboost/sklearn.py:888: UserWarning: The use of label encoder in XGBClassifier is deprecated and will be removed in a future release. To remove this warning, do the following: 1) Pass option use_label_encoder=False when constructing XGBClassifier object; and 2) Encode your labels (y) as integers starting with 0, i.e. 0, 1, 2, ..., [num_class - 1].\n",
      "  warnings.warn(label_encoder_deprecation_msg, UserWarning)\n",
      "/opt/conda/lib/python3.7/site-packages/xgboost/sklearn.py:888: UserWarning: The use of label encoder in XGBClassifier is deprecated and will be removed in a future release. To remove this warning, do the following: 1) Pass option use_label_encoder=False when constructing XGBClassifier object; and 2) Encode your labels (y) as integers starting with 0, i.e. 0, 1, 2, ..., [num_class - 1].\n",
      "  warnings.warn(label_encoder_deprecation_msg, UserWarning)\n"
     ]
    },
    {
     "name": "stdout",
     "output_type": "stream",
     "text": [
      "[18:33:01] WARNING: ../src/learner.cc:1061: Starting in XGBoost 1.3.0, the default evaluation metric used with the objective 'multi:softprob' was changed from 'merror' to 'mlogloss'. Explicitly set eval_metric if you'd like to restore the old behavior.\n",
      "[18:33:01] WARNING: ../src/learner.cc:1061: Starting in XGBoost 1.3.0, the default evaluation metric used with the objective 'multi:softprob' was changed from 'merror' to 'mlogloss'. Explicitly set eval_metric if you'd like to restore the old behavior.\n",
      "[18:33:01] WARNING: ../src/learner.cc:1061: Starting in XGBoost 1.3.0, the default evaluation metric used with the objective 'multi:softprob' was changed from 'merror' to 'mlogloss'. Explicitly set eval_metric if you'd like to restore the old behavior.\n",
      "[18:33:01] WARNING: ../src/learner.cc:1061: Starting in XGBoost 1.3.0, the default evaluation metric used with the objective 'multi:softprob' was changed from 'merror' to 'mlogloss'. Explicitly set eval_metric if you'd like to restore the old behavior.\n",
      "XGBoost\n",
      "[[11  0  0]\n",
      " [ 0 13  0]\n",
      " [ 0  0  6]]\n",
      "Accuracy Score 1.0\n",
      "\n",
      "Mean Accuracy: 93.33 %\n",
      "\n",
      "Standard Deviation: 5.00 %\n",
      "\n",
      "-----------------------------------\n",
      "\n"
     ]
    }
   ],
   "source": [
    "models = []\n",
    "models.append(['Logistic Regreesion', LogisticRegression(random_state=0)])\n",
    "models.append(['SVM', SVC(random_state=0)])\n",
    "models.append(['KNeighbors', KNeighborsClassifier()])\n",
    "models.append(['Naive Bayes', GaussianNB()])\n",
    "models.append(['Decision Tree', DecisionTreeClassifier(random_state=0)])\n",
    "models.append(['Random Forest', RandomForestClassifier(random_state=0)])\n",
    "models.append(['XGBoost', XGBClassifier()])\n",
    "\n",
    "lst_1= []\n",
    "\n",
    "for m in range(len(models)):\n",
    "  lst_2= []\n",
    "  model = models[m][1]\n",
    "  model.fit(x_train, y_train)\n",
    "  y_pred = model.predict(x_test)\n",
    "  cm = confusion_matrix(y_test, y_pred)\n",
    "  accuracies = cross_val_score(estimator = model, X = x_train, y = y_train, cv = 10)\n",
    "  print(models[m][0])\n",
    "  print(cm)\n",
    "  print('Accuracy Score',accuracy_score(y_test, y_pred))\n",
    "  print('')\n",
    "  print(\"Mean Accuracy: {:.2f} %\".format(accuracies.mean()*100))\n",
    "  print('')\n",
    "  print(\"Standard Deviation: {:.2f} %\".format(accuracies.std()*100))\n",
    "  print('')\n",
    "  print('-----------------------------------')\n",
    "  print('')\n",
    "  lst_2.append(models[m][0])\n",
    "  lst_2.append((accuracy_score(y_test, y_pred))*100) \n",
    "  lst_2.append(accuracies.mean()*100)\n",
    "  lst_2.append(accuracies.std()*100)\n",
    "  lst_1.append(lst_2)"
   ]
  },
  {
   "cell_type": "markdown",
   "id": "fifty-tradition",
   "metadata": {
    "papermill": {
     "duration": 0.031097,
     "end_time": "2021-03-17T18:33:01.513822",
     "exception": false,
     "start_time": "2021-03-17T18:33:01.482725",
     "status": "completed"
    },
    "tags": []
   },
   "source": [
    "**Making Data Frame.**"
   ]
  },
  {
   "cell_type": "code",
   "execution_count": 17,
   "id": "renewable-sperm",
   "metadata": {
    "execution": {
     "iopub.execute_input": "2021-03-17T18:33:01.583381Z",
     "iopub.status.busy": "2021-03-17T18:33:01.582628Z",
     "iopub.status.idle": "2021-03-17T18:33:01.585718Z",
     "shell.execute_reply": "2021-03-17T18:33:01.585192Z"
    },
    "papermill": {
     "duration": 0.040592,
     "end_time": "2021-03-17T18:33:01.585871",
     "exception": false,
     "start_time": "2021-03-17T18:33:01.545279",
     "status": "completed"
    },
    "tags": []
   },
   "outputs": [],
   "source": [
    "df = pd.DataFrame(lst_1, columns= ['Model', 'Accuracy', 'Mean Accuracy', 'Std. Deviation'])"
   ]
  },
  {
   "cell_type": "code",
   "execution_count": 18,
   "id": "compound-transformation",
   "metadata": {
    "execution": {
     "iopub.execute_input": "2021-03-17T18:33:01.658694Z",
     "iopub.status.busy": "2021-03-17T18:33:01.657823Z",
     "iopub.status.idle": "2021-03-17T18:33:01.660895Z",
     "shell.execute_reply": "2021-03-17T18:33:01.660381Z"
    },
    "papermill": {
     "duration": 0.043204,
     "end_time": "2021-03-17T18:33:01.661039",
     "exception": false,
     "start_time": "2021-03-17T18:33:01.617835",
     "status": "completed"
    },
    "tags": []
   },
   "outputs": [],
   "source": [
    "df.sort_values(by= ['Accuracy', 'Mean Accuracy'], inplace= True, ascending= False)"
   ]
  },
  {
   "cell_type": "markdown",
   "id": "productive-brush",
   "metadata": {
    "papermill": {
     "duration": 0.031497,
     "end_time": "2021-03-17T18:33:01.724193",
     "exception": false,
     "start_time": "2021-03-17T18:33:01.692696",
     "status": "completed"
    },
    "tags": []
   },
   "source": [
    "**Below shows the values of models in Descending Order.**"
   ]
  },
  {
   "cell_type": "code",
   "execution_count": 19,
   "id": "sunrise-athens",
   "metadata": {
    "execution": {
     "iopub.execute_input": "2021-03-17T18:33:01.794387Z",
     "iopub.status.busy": "2021-03-17T18:33:01.793330Z",
     "iopub.status.idle": "2021-03-17T18:33:01.811131Z",
     "shell.execute_reply": "2021-03-17T18:33:01.811697Z"
    },
    "papermill": {
     "duration": 0.056178,
     "end_time": "2021-03-17T18:33:01.811916",
     "exception": false,
     "start_time": "2021-03-17T18:33:01.755738",
     "status": "completed"
    },
    "tags": []
   },
   "outputs": [
    {
     "data": {
      "text/html": [
       "<div>\n",
       "<style scoped>\n",
       "    .dataframe tbody tr th:only-of-type {\n",
       "        vertical-align: middle;\n",
       "    }\n",
       "\n",
       "    .dataframe tbody tr th {\n",
       "        vertical-align: top;\n",
       "    }\n",
       "\n",
       "    .dataframe thead th {\n",
       "        text-align: right;\n",
       "    }\n",
       "</style>\n",
       "<table border=\"1\" class=\"dataframe\">\n",
       "  <thead>\n",
       "    <tr style=\"text-align: right;\">\n",
       "      <th></th>\n",
       "      <th>Model</th>\n",
       "      <th>Accuracy</th>\n",
       "      <th>Mean Accuracy</th>\n",
       "      <th>Std. Deviation</th>\n",
       "    </tr>\n",
       "  </thead>\n",
       "  <tbody>\n",
       "    <tr>\n",
       "      <th>0</th>\n",
       "      <td>Logistic Regreesion</td>\n",
       "      <td>100.000000</td>\n",
       "      <td>95.000000</td>\n",
       "      <td>5.527708</td>\n",
       "    </tr>\n",
       "    <tr>\n",
       "      <th>1</th>\n",
       "      <td>SVM</td>\n",
       "      <td>100.000000</td>\n",
       "      <td>94.166667</td>\n",
       "      <td>6.508541</td>\n",
       "    </tr>\n",
       "    <tr>\n",
       "      <th>2</th>\n",
       "      <td>KNeighbors</td>\n",
       "      <td>100.000000</td>\n",
       "      <td>93.333333</td>\n",
       "      <td>6.236096</td>\n",
       "    </tr>\n",
       "    <tr>\n",
       "      <th>4</th>\n",
       "      <td>Decision Tree</td>\n",
       "      <td>100.000000</td>\n",
       "      <td>93.333333</td>\n",
       "      <td>5.000000</td>\n",
       "    </tr>\n",
       "    <tr>\n",
       "      <th>5</th>\n",
       "      <td>Random Forest</td>\n",
       "      <td>100.000000</td>\n",
       "      <td>93.333333</td>\n",
       "      <td>5.000000</td>\n",
       "    </tr>\n",
       "    <tr>\n",
       "      <th>6</th>\n",
       "      <td>XGBoost</td>\n",
       "      <td>100.000000</td>\n",
       "      <td>93.333333</td>\n",
       "      <td>5.000000</td>\n",
       "    </tr>\n",
       "    <tr>\n",
       "      <th>3</th>\n",
       "      <td>Naive Bayes</td>\n",
       "      <td>96.666667</td>\n",
       "      <td>95.000000</td>\n",
       "      <td>5.527708</td>\n",
       "    </tr>\n",
       "  </tbody>\n",
       "</table>\n",
       "</div>"
      ],
      "text/plain": [
       "                 Model    Accuracy  Mean Accuracy  Std. Deviation\n",
       "0  Logistic Regreesion  100.000000      95.000000        5.527708\n",
       "1                  SVM  100.000000      94.166667        6.508541\n",
       "2           KNeighbors  100.000000      93.333333        6.236096\n",
       "4        Decision Tree  100.000000      93.333333        5.000000\n",
       "5        Random Forest  100.000000      93.333333        5.000000\n",
       "6              XGBoost  100.000000      93.333333        5.000000\n",
       "3          Naive Bayes   96.666667      95.000000        5.527708"
      ]
     },
     "execution_count": 19,
     "metadata": {},
     "output_type": "execute_result"
    }
   ],
   "source": [
    "df"
   ]
  },
  {
   "cell_type": "markdown",
   "id": "subtle-julian",
   "metadata": {
    "papermill": {
     "duration": 0.032875,
     "end_time": "2021-03-17T18:33:01.877399",
     "exception": false,
     "start_time": "2021-03-17T18:33:01.844524",
     "status": "completed"
    },
    "tags": []
   },
   "source": [
    "**Applying Grid Search on Top 3 above models for best parameters and model selection.**\n",
    "\n",
    "1. Logistic Regression\n",
    "2. SVM\n",
    "3. KNeighbors"
   ]
  },
  {
   "cell_type": "code",
   "execution_count": 20,
   "id": "built-share",
   "metadata": {
    "execution": {
     "iopub.execute_input": "2021-03-17T18:33:01.948065Z",
     "iopub.status.busy": "2021-03-17T18:33:01.947385Z",
     "iopub.status.idle": "2021-03-17T18:33:01.951215Z",
     "shell.execute_reply": "2021-03-17T18:33:01.950502Z"
    },
    "papermill": {
     "duration": 0.041462,
     "end_time": "2021-03-17T18:33:01.951362",
     "exception": false,
     "start_time": "2021-03-17T18:33:01.909900",
     "status": "completed"
    },
    "tags": []
   },
   "outputs": [],
   "source": [
    "lr = LogisticRegression()\n",
    "svm = SVC()\n",
    "knn = KNeighborsClassifier()"
   ]
  },
  {
   "cell_type": "code",
   "execution_count": 21,
   "id": "ethical-forward",
   "metadata": {
    "execution": {
     "iopub.execute_input": "2021-03-17T18:33:02.025955Z",
     "iopub.status.busy": "2021-03-17T18:33:02.025226Z",
     "iopub.status.idle": "2021-03-17T18:33:02.028482Z",
     "shell.execute_reply": "2021-03-17T18:33:02.027755Z"
    },
    "papermill": {
     "duration": 0.04296,
     "end_time": "2021-03-17T18:33:02.028624",
     "exception": false,
     "start_time": "2021-03-17T18:33:01.985664",
     "status": "completed"
    },
    "tags": []
   },
   "outputs": [],
   "source": [
    "data = [(lr, [{'C': [0.01, 0.1, 0.5, 1.0], 'random_state':[0]}]),\n",
    "        (svm, [{'C': [0.1, 0.5, 1.0], 'kernel': ['linear', 'rbf'], 'random_state':[0]}]),\n",
    "        (knn, [{'n_neighbors': [2, 3, 5, 7, 10], 'metric': ['euclidean', 'manhattan', 'chebyshev', 'minkowski']}])]"
   ]
  },
  {
   "cell_type": "code",
   "execution_count": 22,
   "id": "thousand-discount",
   "metadata": {
    "execution": {
     "iopub.execute_input": "2021-03-17T18:33:02.100316Z",
     "iopub.status.busy": "2021-03-17T18:33:02.099613Z",
     "iopub.status.idle": "2021-03-17T18:33:02.102621Z",
     "shell.execute_reply": "2021-03-17T18:33:02.101981Z"
    },
    "papermill": {
     "duration": 0.041508,
     "end_time": "2021-03-17T18:33:02.102759",
     "exception": false,
     "start_time": "2021-03-17T18:33:02.061251",
     "status": "completed"
    },
    "tags": []
   },
   "outputs": [],
   "source": [
    "from sklearn.model_selection import GridSearchCV"
   ]
  },
  {
   "cell_type": "code",
   "execution_count": 23,
   "id": "boxed-medicare",
   "metadata": {
    "execution": {
     "iopub.execute_input": "2021-03-17T18:33:02.179974Z",
     "iopub.status.busy": "2021-03-17T18:33:02.179153Z",
     "iopub.status.idle": "2021-03-17T18:33:03.140651Z",
     "shell.execute_reply": "2021-03-17T18:33:03.141358Z"
    },
    "papermill": {
     "duration": 1.006102,
     "end_time": "2021-03-17T18:33:03.141538",
     "exception": false,
     "start_time": "2021-03-17T18:33:02.135436",
     "status": "completed"
    },
    "tags": []
   },
   "outputs": [
    {
     "name": "stdout",
     "output_type": "stream",
     "text": [
      "LogisticRegression() \n",
      "BestAccuracy : 95.00%\n",
      "BestParameters :  {'C': 0.5, 'random_state': 0}\n",
      "\n",
      "SVC() \n",
      "BestAccuracy : 94.17%\n",
      "BestParameters :  {'C': 1.0, 'kernel': 'rbf', 'random_state': 0}\n",
      "\n",
      "KNeighborsClassifier() \n",
      "BestAccuracy : 95.00%\n",
      "BestParameters :  {'metric': 'euclidean', 'n_neighbors': 7}\n",
      "\n"
     ]
    }
   ],
   "source": [
    "for i,j in data:\n",
    "  grid = GridSearchCV(estimator = i , param_grid = j , scoring = 'accuracy',cv = 10)\n",
    "  grid.fit(x_train,y_train)\n",
    "  best_accuracy = grid.best_score_\n",
    "  best_parameters = grid.best_params_\n",
    "  print('{} \\nBestAccuracy : {:.2f}%'.format(i,best_accuracy*100))\n",
    "  print('BestParameters : ',best_parameters)\n",
    "  print('')"
   ]
  },
  {
   "cell_type": "markdown",
   "id": "otherwise-lucas",
   "metadata": {
    "papermill": {
     "duration": 0.034166,
     "end_time": "2021-03-17T18:33:03.209183",
     "exception": false,
     "start_time": "2021-03-17T18:33:03.175017",
     "status": "completed"
    },
    "tags": []
   },
   "source": [
    "# **Summary**"
   ]
  },
  {
   "cell_type": "markdown",
   "id": "funny-international",
   "metadata": {
    "papermill": {
     "duration": 0.033317,
     "end_time": "2021-03-17T18:33:03.276940",
     "exception": false,
     "start_time": "2021-03-17T18:33:03.243623",
     "status": "completed"
    },
    "tags": []
   },
   "source": [
    "**Therefore, after applying GridSearch we can confirm that LogisticRegression and KNeighborsClassifier is best suited model for the dataset and both gives the accuracy of 95.00%.**"
   ]
  }
 ],
 "metadata": {
  "kernelspec": {
   "display_name": "Python 3",
   "language": "python",
   "name": "python3"
  },
  "language_info": {
   "codemirror_mode": {
    "name": "ipython",
    "version": 3
   },
   "file_extension": ".py",
   "mimetype": "text/x-python",
   "name": "python",
   "nbconvert_exporter": "python",
   "pygments_lexer": "ipython3",
   "version": "3.7.9"
  },
  "papermill": {
   "default_parameters": {},
   "duration": 16.092102,
   "end_time": "2021-03-17T18:33:04.020823",
   "environment_variables": {},
   "exception": null,
   "input_path": "__notebook__.ipynb",
   "output_path": "__notebook__.ipynb",
   "parameters": {},
   "start_time": "2021-03-17T18:32:47.928721",
   "version": "2.3.2"
  }
 },
 "nbformat": 4,
 "nbformat_minor": 5
}
